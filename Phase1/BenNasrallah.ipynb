{
 "cells": [
  {
   "cell_type": "markdown",
   "metadata": {},
   "source": [
    "Road To AI -BenNasrallah\n",
    "--------\n",
    "*&copy;  MLSA : Achraf Jday & Abhishek Jaiswal.*\n"
   ]
  },
  {
   "cell_type": "markdown",
   "metadata": {},
   "source": [
    "## Phase 1: data structures\n",
    "\n",
    "The objective of this task is to become familiar with the data structures used for data manipulations and to implement the measures seen during the workshops: mean, median, quartiles, correlations. \n"
   ]
  },
  {
   "cell_type": "markdown",
   "metadata": {},
   "source": [
    "<font size=\"+1\" color=\"RED\">**[Q]**</font> **Indicate in the box below your name :**"
   ]
  },
  {
   "cell_type": "markdown",
   "metadata": {},
   "source": [
    "Ahmed Ben Nasrallah"
   ]
  },
  {
   "cell_type": "markdown",
   "metadata": {},
   "source": [
    "<font color=\"RED\" size=\"+1\">**[Q]**</font> **Rename this file ipython**\n",
    "\n",
    "At the very top of this page, click on <tt>RoadToAI_1</tt> and add after <tt>RoadToAI_1</tt> your name.\n",
    "\n",
    "For example, for the binomial Luke Skywalker and Han Solo, the file name becomes: <pre>RoadToAI_1-Skywalker-Solo</pre>.\n",
    "\n",
    "Remember to save the file frequently while working :\n",
    "- either by clicking on the \"floppy disk\" icon\n",
    "- or by the key combination [Ctrl]-S\n"
   ]
  },
  {
   "cell_type": "markdown",
   "metadata": {},
   "source": [
    "<font color=\"RED\" size=\"+1\">IMPORTANT : submission of your final file</font>\n",
    "\n",
    "**Name to be given to the file to be posted** : *Name1_Name2.ipynb* \n",
    "- *Name1* and *Name2*: names of the members of the pair\n",
    "- don't compress or make an archive: you have to render the ipython file as it is.\n",
    "\n",
    "The file is to be pushed to the repo as shown during the workshop."
   ]
  },
  {
   "cell_type": "markdown",
   "metadata": {},
   "source": [
    "## Presentation ##\n",
    "\n",
    "### Objectives of this phase\n",
    "\n",
    "The work to be done is as follows:\n",
    "- learn how to use jupyter notebook (cf doc: <https://jupyter.org/>).\n",
    "- to learn about the data structures that will be used to program throughout the sessions: numpy and pandas.\n",
    "- implement first functions that will be useful."
   ]
  },
  {
   "cell_type": "markdown",
   "metadata": {},
   "source": [
    "## Learn how to use jupyter notebook\n",
    "\n",
    "This document is dynamic: it is composed of \"boxes\" which can be \"compiled\" by using the \"Run Cells\" command in the \"Cell\" menu (either by clicking on the >| icon or by using the [SHIFT][ENTER] key combination).\n",
    "\n",
    "There are **2 main types** of boxes :\n",
    "- the \"Markdown\" boxes: everything typed in these boxes is text that will be rendered \"nicely\" after being compiled. It is possible to write Latex commands to define equations, and it recognizes some HTML tags. By double-clicking in a compiled Markdown box, one can access its contents and then modify it.\n",
    "- the \"Code\" boxes: in these boxes, we write Python code. The compilation of the box produces the execution of this Python code and produces an \"Out\" box in which the result of the last command is displayed. Any valid Python code can be written in this box. This type of box can be recognized by the \"In [n]\" written next to its top left corner (\"n\" is an integer).\n",
    "\n",
    "The type of a box can be changed using the menu at the top of the page (just above the text).\n",
    "\n",
    "The \"+\" icon creates a new box just below the active box.\n",
    "\n",
    "The icon with the scissors erases the active box (attention ! it is **irreversible !**).\n",
    "\n",
    "To know more about it :\n",
    "- http://ipython.org/\n",
    "\n",
    "You can also refer to the Python documentation:\n",
    "- https://www.python.org/\n",
    "\n",
    "\n",
    "In what follows, the Markdown boxes beginning with <font color=\"RED\" size=\"+1\">**[Q]**</font> ask questions that must be answered in the box that follows directly (possibly by creating new \"Code\" or \"Markdown\" type boxes, at your convenience).\n",
    "Some of the \"Code\" boxes to be filled in are followed by an output \"Out[.]:\" which shows an example of an expected result. \n",
    "\n",
    "Feel free to create new \"Code\" or \"Markdown\" boxes in this document if you need them.\n"
   ]
  },
  {
   "cell_type": "code",
   "execution_count": 6,
   "metadata": {},
   "outputs": [
    {
     "name": "stdout",
     "output_type": "stream",
     "text": [
      "A test :\n"
     ]
    },
    {
     "data": {
      "text/plain": [
       "5"
      ]
     },
     "execution_count": 6,
     "metadata": {},
     "output_type": "execute_result"
    }
   ],
   "source": [
    "# sample code box :\n",
    "# --> select this box (by clicking inside)\n",
    "# --> Run Cells from the \"Cell\" Menu (or click on the icon >|)\n",
    "# \n",
    "\n",
    "print(\"A test :\")\n",
    "2+3\n"
   ]
  },
  {
   "cell_type": "code",
   "execution_count": 7,
   "metadata": {},
   "outputs": [
    {
     "name": "stdout",
     "output_type": "stream",
     "text": [
      "Version Python:  3.7.6 (default, Jan  8 2020, 20:23:39) [MSC v.1916 64 bit (AMD64)]\n"
     ]
    }
   ],
   "source": [
    "import sys\n",
    "print(\"Version Python: \", sys.version)\n",
    "\n"
   ]
  },
  {
   "cell_type": "markdown",
   "metadata": {},
   "source": [
    "<font color=\"RED\" size=\"+1\">**[Q]**</font> In the following \"Code\" box, give the Python instructions to perform the calculation : \n",
    "$$-\\frac{1}{3}\\log_2(\\frac{1}{3})-\\frac{2}{3}\\log_2(\\frac{2}{3})$$\n",
    "\n",
    "Whose value to find is :\n",
    "    0.9182958340544896"
   ]
  },
  {
   "cell_type": "code",
   "execution_count": 1,
   "metadata": {},
   "outputs": [
    {
     "name": "stdout",
     "output_type": "stream",
     "text": [
      "0.9182958340544896\n"
     ]
    }
   ],
   "source": [
    "import math as m\n",
    "x=-1/3*(m.log2(1/3))-(2/3)*m.log2(2/3)\n",
    "print(x)"
   ]
  },
  {
   "cell_type": "markdown",
   "metadata": {},
   "source": [
    "**<font style=\"BACKGROUND-COLOR: lightgray\" color='red'> Important</font>** :\n",
    "when reading the text of a jupyter file on your computer, remember to execute the \"Code\" boxes in the order they appear. The whole page behaves as a single Python session and to execute some boxes it is necessary that the previous ones have been executed beforehand."
   ]
  },
  {
   "cell_type": "markdown",
   "metadata": {},
   "source": [
    "<font color=\"RED\" size=\"+1\">**[Q]**</font> In the next \"Code\" box, write the function <tt>calculation</tt> which, given a real $x$ of [0,1] makes the value of the calculation $$-x\\log_2(x)-(1-x)\\log_2(1-x)$$ if $x\\not= 0$ and $x \\not= 1$ or the value $0.0$ otherwise."
   ]
  },
  {
   "cell_type": "code",
   "execution_count": 2,
   "metadata": {},
   "outputs": [],
   "source": [
    "def calculation(x):\n",
    "    if x>0 and x<1:\n",
    "        r=-x*m.log2(x)-(1-x)*m.log2(1-x)\n",
    "    else:\n",
    "        r=0.0\n",
    "    return(r)\n",
    "    "
   ]
  },
  {
   "cell_type": "code",
   "execution_count": 3,
   "metadata": {},
   "outputs": [
    {
     "data": {
      "text/plain": [
       "0.0"
      ]
     },
     "execution_count": 3,
     "metadata": {},
     "output_type": "execute_result"
    }
   ],
   "source": [
    "calculation(0)"
   ]
  },
  {
   "cell_type": "code",
   "execution_count": 4,
   "metadata": {},
   "outputs": [
    {
     "data": {
      "text/plain": [
       "0.9182958340544896"
      ]
     },
     "execution_count": 4,
     "metadata": {},
     "output_type": "execute_result"
    }
   ],
   "source": [
    "calculation(1/3)"
   ]
  },
  {
   "cell_type": "code",
   "execution_count": 5,
   "metadata": {},
   "outputs": [
    {
     "data": {
      "text/plain": [
       "1.0"
      ]
     },
     "execution_count": 5,
     "metadata": {},
     "output_type": "execute_result"
    }
   ],
   "source": [
    "calculation(0.5)"
   ]
  },
  {
   "cell_type": "markdown",
   "metadata": {},
   "source": [
    "## Documentation\n",
    "\n",
    "\n",
    "At first, you have to take in hand the **numpy**, **pandas** and **matplotlib** libraries:\n",
    "\n",
    "- Numpy = <http://scipy.github.io/old-wiki/pages/Tentative_NumPy_Tutorial>\n",
    "  or <https://realpython.com/numpy-tutorial/>\n",
    "- Pandas = http://pandas.pydata.org/pandas-docs/stable/10min.html\n",
    "- Matplotlib = https://matplotlib.org/1.3.1/users/pyplot_tutorial.html\n",
    "\n",
    "Read these pages and practice these tutorials to become familiar with these tools.\n"
   ]
  },
  {
   "cell_type": "markdown",
   "metadata": {},
   "source": [
    "<font color=\"RED\" size=\"+1\">**[Q]**</font> Give in the following box the main characteristics of each of these 3 libraries: What are they used for? What do they allow to represent ? What is their usefulness and their specificities? etc.\n",
    "\n",
    "Give examples of their specific uses."
   ]
  },
  {
   "cell_type": "markdown",
   "metadata": {},
   "source": [
    "To use the 3 previous libraries, you must first import them into Jupyter using the commands given in the following box.\n",
    "\n",
    "If a library is not installed, an error may occur when importing it. It is then necessary to install it. For example, for the pandas library :\n",
    "- in a terminal, execute the command:\n",
    "    \n",
    "        pip install --user -U  pandas\n",
    "\n",
    "- once the library is installed, it is necessary to restart the Jupyter Python kernel:\n",
    "    in the Jupyter menu at the top of the page, choose \"<tt>Kernel -> restart</tt>\".\n",
    "    \n"
   ]
  },
  {
   "cell_type": "code",
   "execution_count": null,
   "metadata": {},
   "outputs": [],
   "source": [
    "import numpy as np\n",
    "import pandas as pd\n",
    "from datetime import datetime as dt\n",
    "import matplotlib.pyplot as plt\n",
    "%matplotlib inline  "
   ]
  },
  {
   "cell_type": "markdown",
   "metadata": {},
   "source": [
    "## Programming and experimentation ##\n",
    "\n",
    "The dataset that will be used in this session to validate your functions corresponds to data concerning prices in different states of North America. \n",
    "\n",
    "\n",
    "The reference of this dataset is available here : <https://github.com/amitkaps/weed/blob/master/1-Acquire.ipynb>\n",
    "\n",
    "This data is also provided in the file <tt>data-01.zip</tt> to be downloaded from the Moodle site.\n",
    "\n",
    "It consists of three files:\n",
    "* <tt>\"data-01/Weed_Price.csv\"</tt>: price per date and per condition (for three different qualities)\n",
    "* <tt>\"data-01/Demographics_State.csv\"</tt>: demographic information on each state\n",
    "* <tt>\"data-01/Population_State.csv\"</tt>: population of each state\n",
    "\n",
    "The first step is to download these files into pandas dataframes.\n",
    "\n",
    "As they are <a files href=\"https://fr.wikipedia.org/wiki/Comma-separated_values\"><tt>CSV</tt></a>, we use the Pandas library which contains a function to read such file types."
   ]
  },
  {
   "cell_type": "code",
   "execution_count": null,
   "metadata": {},
   "outputs": [],
   "source": [
    "# Loading data files :\n",
    "\n",
    "prices_pd = pd.read_csv(\"data-01/Weed_Price.csv\", parse_dates=[-1])\n",
    "demography_pd = pd.read_csv(\"data-01/Demographics_State.csv\")\n",
    "population_pd = pd.read_csv(\"data-01/Population_State.csv\")"
   ]
  },
  {
   "cell_type": "markdown",
   "metadata": {},
   "source": [
    "<font color=\"RED\" size=\"+1\">**[Q]**</font> **Dataframes**\n",
    "Start by looking at the documentation of the <tt>read_csv</tt> function of the Pandas library. What does this function render (what is the type of what is rendered)?"
   ]
  },
  {
   "cell_type": "markdown",
   "metadata": {},
   "source": [
    "<font color=\"RED\" size=\"+1\">**[Q]**</font> **Dataframes**\n",
    "\n",
    "Pandas dataframes allow to store together data whose values can be different. This can be similar to an Excel sheet: each row corresponds to the same data (an \"example\") and contains in each column values that can be of different types.\n",
    "\n",
    "Examine the type of the three variables that have just been defined. To do this, use the Python function <tt>type</tt>: for example <tt>type(prices_pd)</tt>."
   ]
  },
  {
   "cell_type": "code",
   "execution_count": null,
   "metadata": {},
   "outputs": [],
   "source": [
    "# type of prices_pd:\n",
    "\n"
   ]
  },
  {
   "cell_type": "code",
   "execution_count": null,
   "metadata": {},
   "outputs": [],
   "source": [
    "# type of demography_pd\n",
    "\n"
   ]
  },
  {
   "cell_type": "code",
   "execution_count": null,
   "metadata": {},
   "outputs": [],
   "source": [
    "# type of population_pd\n",
    "\n"
   ]
  },
  {
   "cell_type": "markdown",
   "metadata": {},
   "source": [
    "**Important**: each time you use a command, look at the type of the result obtained (list, DataFrame, Series, array,...) it will allow you to know what you can apply on this result."
   ]
  },
  {
   "cell_type": "markdown",
   "metadata": {},
   "source": [
    "<font color=\"RED\" size=\"+1\">**[Q]**</font> **Learn more about the data...**\n",
    "\n",
    "* Begin by getting familiar with the data by viewing it and displaying examples of the rows or columns that these DataFrames contain. To do this, manipulate the functions of the libraries you have just discovered (for example, <tt>head()</tt>, <tt>tail()</tt>, ...)."
   ]
  },
  {
   "cell_type": "code",
   "execution_count": null,
   "metadata": {},
   "outputs": [],
   "source": [
    "# 15 first lines of prices_pd\n",
    "\n"
   ]
  },
  {
   "cell_type": "code",
   "execution_count": null,
   "metadata": {},
   "outputs": [],
   "source": [
    "# 7 last lines of prices_pd\n",
    "\n"
   ]
  },
  {
   "cell_type": "markdown",
   "metadata": {},
   "source": [
    "Data types can be retrieved through the <tt>dtypes</tt> method:"
   ]
  },
  {
   "cell_type": "code",
   "execution_count": null,
   "metadata": {},
   "outputs": [],
   "source": [
    "prices_pd.dtypes"
   ]
  },
  {
   "cell_type": "markdown",
   "metadata": {},
   "source": [
    "There are a lot of features to discover to get useful information about DataFrames. For example, the list of states can be obtained this way:"
   ]
  },
  {
   "cell_type": "code",
   "execution_count": null,
   "metadata": {},
   "outputs": [],
   "source": [
    "les_etats = np.unique(prices_pd[\"State\"].values)"
   ]
  },
  {
   "cell_type": "code",
   "execution_count": null,
   "metadata": {},
   "outputs": [],
   "source": [
    "# Show the list of states :\n",
    "\n"
   ]
  },
  {
   "cell_type": "markdown",
   "metadata": {},
   "source": [
    "Compare the number of values of :\n",
    "\n",
    "        prices_pd[\"MedQ\"].values\n",
    "\n",
    "and \n",
    "\n",
    "        np.unique(prices_pd[\"MedQ\"].values\n",
    "\n",
    "Explain what's going on.        "
   ]
  },
  {
   "cell_type": "code",
   "execution_count": null,
   "metadata": {},
   "outputs": [],
   "source": []
  },
  {
   "cell_type": "markdown",
   "metadata": {},
   "source": [
    "## Implementation of classical measurements ##"
   ]
  },
  {
   "cell_type": "markdown",
   "metadata": {},
   "source": [
    "We will now write the functions allowing to calculate \"basic\" measurements on one-dimensional data. For this, we will work with the <tt>array</tt> structure of numpy. To convert a column of DataFrame to '<tt>array</tt>, here is how to do:"
   ]
  },
  {
   "cell_type": "markdown",
   "metadata": {},
   "source": [
    "### Average"
   ]
  },
  {
   "cell_type": "markdown",
   "metadata": {},
   "source": [
    "<font color=\"RED\" size=\"+1\">**[Q]**</font> **The average**\n",
    "\n",
    "\n",
    "Write the function average(values) that calculates the average of the elements of an array (using the ''for'' loop, or Sum and Len, without using the functions already implemented in numpy)."
   ]
  },
  {
   "cell_type": "code",
   "execution_count": null,
   "metadata": {},
   "outputs": [],
   "source": []
  },
  {
   "cell_type": "markdown",
   "metadata": {},
   "source": [
    "Test the average function and compare your results with the python base implementation given below:"
   ]
  },
  {
   "cell_type": "code",
   "execution_count": null,
   "metadata": {},
   "outputs": [],
   "source": [
    "print(\"The average (MedQ) with my function is : %f dollars\" % average(prices_pd[\"MedQ\"]))\n",
    "print(\"The average (MedQ) with numpy's mean is : %f dollars\" % prices_pd[\"MedQ\"].mean())"
   ]
  },
  {
   "cell_type": "markdown",
   "metadata": {},
   "source": [
    "<font color=\"RED\" size=\"+1\">**[Q]**</font> **Averages on qualities**\n",
    "\n",
    "Calculate:\n",
    "* The average price for medium and high qualities\n",
    "* The average price for medium and high grades in the state of New York.\n",
    "\n",
    "Calculations will be done on one hand using your function, and on the other hand using python functions. "
   ]
  },
  {
   "cell_type": "code",
   "execution_count": null,
   "metadata": {},
   "outputs": [],
   "source": []
  },
  {
   "cell_type": "markdown",
   "metadata": {},
   "source": [
    "<font color=\"RED\" size=\"+1\">**[Q]**</font> **Average over states**\n",
    "\n",
    "Calculate the average price of medium and high qualities in all states -- the list of states is obtained as follows states=np.unique(prices_pd[\"State\"].values)\n",
    "\n",
    "You can (must) do this in two ways:\n",
    "* Make a loop on each of the states\n",
    "* Use the groupby function as explained here: http://pandas.pydata.org/pandas-docs/stable/groupby.html\n",
    " and here: https://www.kaggle.com/crawford/python-groupby-tutorial\n"
   ]
  },
  {
   "cell_type": "code",
   "execution_count": null,
   "metadata": {},
   "outputs": [],
   "source": []
  },
  {
   "cell_type": "markdown",
   "metadata": {},
   "source": [
    "<font color=\"RED\" size=\"+1\">**[Q]**</font> **Other averages**\n",
    "\n",
    "Calculate the average (with both functions) on the price of the low quality. What do you find? Explain..."
   ]
  },
  {
   "cell_type": "code",
   "execution_count": null,
   "metadata": {},
   "outputs": [],
   "source": []
  },
  {
   "cell_type": "markdown",
   "metadata": {},
   "source": [
    "<font color=\"RED\" size=\"+1\">**[Q]**</font> **Data modification**\n",
    "\n",
    "Replace the <tt>NAN</tt> in the <tt>LowQ</tt> column using the function described here: http://pandas.pydata.org/pandas-docs/version/0.17.1/generated/pandas.DataFrame.fillna.html. \n",
    "\n",
    "In particular, we want to use the <tt>fill</tt> method after sorting by state and date using the <tt>fill</tt> function: \n",
    "\n",
    "            prices_sorted = prices_pd.sort_values(by=['State', 'date'], inplace=False)\n",
    "\n",
    "Explain the result of this command."
   ]
  },
  {
   "cell_type": "code",
   "execution_count": null,
   "metadata": {},
   "outputs": [],
   "source": []
  },
  {
   "cell_type": "markdown",
   "metadata": {},
   "source": [
    "<font color=\"RED\" size=\"+1\">**[Q]**</font> **Changes in results**\n",
    "\n",
    "\n",
    "Recalculate the average price for quality <tt>Low</tt>. What happens now? "
   ]
  },
  {
   "cell_type": "code",
   "execution_count": null,
   "metadata": {},
   "outputs": [],
   "source": []
  },
  {
   "cell_type": "markdown",
   "metadata": {},
   "source": [
    "<font color=\"RED\" size=\"+1\">**[Q]**</font> **Histogram plotting**\n",
    "\n",
    "Give Python instructions to plot the histogram of price averages (<tt>LowQ</tt>) by state. \n",
    "\n",
    "To help you build a histogram, you can study the next page:\n",
    "<http://matplotlib.org/examples/lines_bars_and_markers/barh_demo.html"
   ]
  },
  {
   "cell_type": "code",
   "execution_count": null,
   "metadata": {},
   "outputs": [],
   "source": [
    "\n"
   ]
  },
  {
   "cell_type": "markdown",
   "metadata": {},
   "source": [
    "<font color=\"RED\" size=\"+1\">**[Q]**</font> **Density estimation**\n",
    "\n",
    "We will now look at the calculation of the number of states concerned by a price range. For this purpose:\n",
    "* Calculate the table of average prices as follows\n",
    "    \n"
   ]
  },
  {
   "cell_type": "code",
   "execution_count": null,
   "metadata": {},
   "outputs": [],
   "source": [
    "average_price=prices_pd[[\"State\",\"LowQ\"]].groupby([\"State\"]).mean()\n",
    "print(average_price)\n",
    "print(\"===========\")\n",
    "average_price=average_price.values.ravel()\n",
    "print(average_price)"
   ]
  },
  {
   "cell_type": "markdown",
   "metadata": {},
   "source": [
    "<font color=\"RED\" size=\"+1\">**[Q]**</font> **Variation bounds**\n",
    "\n",
    "* Calculate the min and max values of the average prices"
   ]
  },
  {
   "cell_type": "code",
   "execution_count": null,
   "metadata": {},
   "outputs": [],
   "source": []
  },
  {
   "cell_type": "markdown",
   "metadata": {},
   "source": [
    "<font color=\"RED\" size=\"+1\">**[Q]**</font> **Calculation of a workforce**\n",
    "\n",
    "Take a discretization interval of size 20, and calculate the number of states per bins (as a vector). Draw the corresponding histogram"
   ]
  },
  {
   "cell_type": "code",
   "execution_count": null,
   "metadata": {},
   "outputs": [],
   "source": []
  },
  {
   "cell_type": "markdown",
   "metadata": {},
   "source": [
    "<font color=\"RED\" size=\"+1\">**[Q]**</font> **Change of scale**\n",
    "\n",
    "Now take an interval of size 40."
   ]
  },
  {
   "cell_type": "code",
   "execution_count": null,
   "metadata": {},
   "outputs": [],
   "source": []
  },
  {
   "cell_type": "markdown",
   "metadata": {},
   "source": [
    "This can be done in the following way with Pandas:"
   ]
  },
  {
   "cell_type": "code",
   "execution_count": null,
   "metadata": {},
   "outputs": [],
   "source": [
    "effectif=pd.cut(average_price,20)\n",
    "effectif2=pd.value_counts(effectif)\n",
    "effectif3=effectif2.reindex(effectif.categories)\n",
    "effectif3.plot(kind='bar')"
   ]
  },
  {
   "cell_type": "markdown",
   "metadata": {},
   "source": [
    "And like that with Numpy:"
   ]
  },
  {
   "cell_type": "code",
   "execution_count": null,
   "metadata": {},
   "outputs": [],
   "source": [
    "plt.hist(average_price,bins=20)"
   ]
  },
  {
   "cell_type": "markdown",
   "metadata": {},
   "source": [
    "The estimation of density in pandas can be done as follows"
   ]
  },
  {
   "cell_type": "code",
   "execution_count": null,
   "metadata": {},
   "outputs": [],
   "source": [
    "effectif=pd.DataFrame(average_price)\n",
    "effectif.plot(kind='kde')"
   ]
  },
  {
   "cell_type": "markdown",
   "metadata": {},
   "source": [
    "### Cumulative density\n",
    "\n",
    "<font color=\"RED\" size=\"+1\">**[Q]**</font> **Calculation of the cumulative density**\n",
    "\n",
    "\n",
    "Calculate the cumulative density from the average prices, with a given discretization interval and represent it graphically. \n",
    "\n",
    "The method must render two tables: the absciss $X$ (the possible average prices between min and max prices), and the associated density"
   ]
  },
  {
   "cell_type": "code",
   "execution_count": null,
   "metadata": {},
   "outputs": [],
   "source": [
    "\n"
   ]
  },
  {
   "cell_type": "markdown",
   "metadata": {},
   "source": [
    "<font color=\"RED\" size=\"+1\">**[Q]**</font> **Quartiles**\n",
    "\n",
    "Write the function Q(alpha,x,y) which allows to find the quartile(alpha,x,y).\n",
    "- quartile(0.5,x,densite) will correspond to the median. \n",
    "\n",
    "Compute and graphically represent the boxplot.\n",
    "\n",
    "Remark: a boxplot in pandas is made like this:\n",
    "        \n",
    "    a=pd.DataFrame(average_price)\n",
    "    a.boxplot()\n"
   ]
  },
  {
   "cell_type": "code",
   "execution_count": null,
   "metadata": {},
   "outputs": [],
   "source": []
  },
  {
   "cell_type": "markdown",
   "metadata": {},
   "source": [
    "### Variance\n",
    "\n",
    "<font color=\"RED\" size=\"+1\">**[Q]**</font> **Calculation of variance**\n",
    "\n",
    "We now want to add a column <tt>HighQ_var</tt> to the original data containing the price variance by state. Give the corresponding Python intructions.\n",
    "\n",
    "**WARNING**, this supposes to process the states one after the other ."
   ]
  },
  {
   "cell_type": "code",
   "execution_count": null,
   "metadata": {},
   "outputs": [],
   "source": []
  },
  {
   "cell_type": "markdown",
   "metadata": {},
   "source": [
    "# Synthesis work: California\n",
    "\n",
    "Pandas allows you to synthesize data in the following way (for the DataFrame with the name <tt>df</tt>): \n",
    "    \n",
    "    df.describe()\n",
    "    \n",
    "\n",
    "<font color=\"RED\" size=\"+1\">**[Q]**</font> Check that the values found on the state of California match the values found through your various functions. \n",
    "\n",
    "To do this, give in the following the code that uses your functions (means, variance, and quartiles) as well as the result of the function <tt>describe</tt>.\n"
   ]
  },
  {
   "cell_type": "code",
   "execution_count": null,
   "metadata": {},
   "outputs": [],
   "source": []
  },
  {
   "cell_type": "markdown",
   "metadata": {},
   "source": [
    "<font color=\"RED\" size=\"+1\">**[Q]**</font> **Correlation Matrix**\n",
    "\n",
    "\n",
    "We will now focus on calculating the correlation between prices in New York and prices in California.\n",
    "\n",
    "Start by representing the price point cloud (by date) in California ($X$ axis) and New York ($Y$ axis) for the good quality.\n",
    "\n",
    "To do this, start by creating a DataFrame with this information:"
   ]
  },
  {
   "cell_type": "code",
   "execution_count": null,
   "metadata": {},
   "outputs": [],
   "source": [
    "price_ny=prices_pd[prices_pd['State']=='New York']\n",
    "price_ca=prices_pd[prices_pd['State']=='California']\n",
    "price_ca_ny=price_ca.merge(price_ny,on='date')\n",
    "price_ca_ny.head()\n",
    "\n",
    "# Run this box and comment on the result obtained"
   ]
  },
  {
   "cell_type": "markdown",
   "metadata": {},
   "source": [
    "<font color=\"RED\" size=\"+1\">**[Q]**</font> **Spot clouds*\n",
    "\n",
    "\n",
    "Graphically represent the cloud of points: see <http://matplotlib.org/examples/shapes_and_collections/scatter_demo.html>"
   ]
  },
  {
   "cell_type": "code",
   "execution_count": null,
   "metadata": {},
   "outputs": [],
   "source": []
  },
  {
   "cell_type": "markdown",
   "metadata": {},
   "source": [
    "<font color=\"RED\" size=\"+1\">**[Q]**</font> **Correlations**\n",
    "\n",
    "Using the previously written mean function, write a function <tt>correlation(x,y)</tt> which calculates the linear correlation between two Numpy tables."
   ]
  },
  {
   "cell_type": "code",
   "execution_count": null,
   "metadata": {},
   "outputs": [],
   "source": []
  },
  {
   "cell_type": "code",
   "execution_count": null,
   "metadata": {},
   "outputs": [],
   "source": [
    "# Apply your function with the following instruction:\n",
    "\n",
    "# print(\"The correlation is :%f\"%correlation(price_ca_ny[\"HighQ_x\"].values,price_ca_ny[\"HighQ_y\"].values))"
   ]
  },
  {
   "cell_type": "markdown",
   "metadata": {},
   "source": [
    "<font color=\"RED\" size=\"+1\">**[Q]**</font> **Correlation matrix**\n",
    "\n",
    "Calculate the correlation matrix for all combinations of states."
   ]
  },
  {
   "cell_type": "code",
   "execution_count": null,
   "metadata": {},
   "outputs": [],
   "source": []
  },
  {
   "cell_type": "markdown",
   "metadata": {},
   "source": [
    "<font color=\"RED\" size=\"+1\">**[Q]**</font> **Other correlations...**\n",
    "\n",
    "\n",
    "Calculate the correlations between price (<tt>low</tt> and <tt>high</tt>) based on the average income per available state in the table <tt>demography_pd</tt> loaded at the beginning of this Jupyter sheet. \n",
    "\n",
    "What can we conclude from this?"
   ]
  },
  {
   "cell_type": "code",
   "execution_count": null,
   "metadata": {},
   "outputs": [],
   "source": []
  }
 ],
 "metadata": {
  "kernelspec": {
   "display_name": "Python 3",
   "language": "python",
   "name": "python3"
  },
  "language_info": {
   "codemirror_mode": {
    "name": "ipython",
    "version": 3
   },
   "file_extension": ".py",
   "mimetype": "text/x-python",
   "name": "python",
   "nbconvert_exporter": "python",
   "pygments_lexer": "ipython3",
   "version": "3.7.6"
  }
 },
 "nbformat": 4,
 "nbformat_minor": 1
}
